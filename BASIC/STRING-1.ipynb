{
 "cells": [
  {
   "cell_type": "markdown",
   "id": "8d5a7e33-8d2a-4f2a-bb59-6c51f292ac10",
   "metadata": {},
   "source": [
    "**STRING** - sequence of characters , immutable"
   ]
  },
  {
   "cell_type": "code",
   "execution_count": 4,
   "id": "80e12020-b1da-4abb-972e-97a18f27da06",
   "metadata": {},
   "outputs": [
    {
     "name": "stdout",
     "output_type": "stream",
     "text": [
      "hello\n"
     ]
    }
   ],
   "source": [
    "s = 'hello'\n",
    "print(s)"
   ]
  },
  {
   "cell_type": "code",
   "execution_count": 6,
   "id": "f7bbb305-cf0b-4352-bbb1-7bc14f095045",
   "metadata": {},
   "outputs": [
    {
     "name": "stdout",
     "output_type": "stream",
     "text": [
      "hello\n"
     ]
    }
   ],
   "source": [
    "s = \"hello\"\n",
    "print(s)"
   ]
  },
  {
   "cell_type": "code",
   "execution_count": 8,
   "id": "e994b18e-31f7-4031-9a59-decdc1d82e1f",
   "metadata": {},
   "outputs": [
    {
     "name": "stdout",
     "output_type": "stream",
     "text": [
      "hello\n"
     ]
    }
   ],
   "source": [
    "s = '''hello'''\n",
    "print(s)"
   ]
  },
  {
   "cell_type": "code",
   "execution_count": 24,
   "id": "e023fda2-fff9-4bd8-a632-dba646fa4544",
   "metadata": {},
   "outputs": [
    {
     "name": "stdout",
     "output_type": "stream",
     "text": [
      "h\n",
      "ello\n",
      "ell\n",
      "o\n"
     ]
    }
   ],
   "source": [
    "print(s[0])\n",
    "print(s[1:5])\n",
    "print(s[-4:-1])\n",
    "print(s[-1])"
   ]
  },
  {
   "cell_type": "code",
   "execution_count": 26,
   "id": "92f4672b-0793-4e00-842c-b090dc78ce2d",
   "metadata": {},
   "outputs": [],
   "source": [
    "del s"
   ]
  },
  {
   "cell_type": "code",
   "execution_count": 30,
   "id": "58bf1c3d-8898-4087-9343-15ba881765d2",
   "metadata": {},
   "outputs": [
    {
     "name": "stdout",
     "output_type": "stream",
     "text": [
      "good morning\n"
     ]
    }
   ],
   "source": [
    "s1 = \"good\"\n",
    "s2 = \"morning\"\n",
    "print(s1+\" \"+s2)"
   ]
  },
  {
   "cell_type": "code",
   "execution_count": 34,
   "id": "b342f67a-3bdb-4403-b7a5-946f88fc9f63",
   "metadata": {},
   "outputs": [
    {
     "name": "stdout",
     "output_type": "stream",
     "text": [
      "goodgoodgoodgoodgoodgoodgood\n"
     ]
    }
   ],
   "source": [
    "print(s1*7)"
   ]
  },
  {
   "cell_type": "code",
   "execution_count": 38,
   "id": "50fbe5f3-70cb-4445-990f-be494b7fc261",
   "metadata": {},
   "outputs": [
    {
     "name": "stdout",
     "output_type": "stream",
     "text": [
      "Winter Rain Summer\n",
      "2 is the count of i in s3\n"
     ]
    }
   ],
   "source": [
    "count = 0\n",
    "s3 = 'Winter Rain Summer'\n",
    "for l in s3:\n",
    "    if l=='i':\n",
    "        count+=1\n",
    "print(s3)\n",
    "print(count,'is the count of i in s3')"
   ]
  },
  {
   "cell_type": "code",
   "execution_count": 40,
   "id": "90310c64-e163-453a-aa46-43652e970562",
   "metadata": {},
   "outputs": [
    {
     "name": "stdout",
     "output_type": "stream",
     "text": [
      "True\n"
     ]
    }
   ],
   "source": [
    "print('Rain' in s3)"
   ]
  },
  {
   "cell_type": "code",
   "execution_count": 42,
   "id": "1dd34935-ed6e-4fdb-b036-4ad046265efc",
   "metadata": {},
   "outputs": [
    {
     "name": "stdout",
     "output_type": "stream",
     "text": [
      "False\n"
     ]
    }
   ],
   "source": [
    "print('Autumn' in s3)"
   ]
  },
  {
   "cell_type": "code",
   "execution_count": 44,
   "id": "0376c3d4-02a6-49df-aec4-767939f57354",
   "metadata": {},
   "outputs": [
    {
     "data": {
      "text/plain": [
       "'WINTER RAIN SUMMER'"
      ]
     },
     "execution_count": 44,
     "metadata": {},
     "output_type": "execute_result"
    }
   ],
   "source": [
    "s3.upper()"
   ]
  },
  {
   "cell_type": "code",
   "execution_count": 46,
   "id": "70987c6c-7e64-45f2-8db8-0e6fbb149748",
   "metadata": {},
   "outputs": [
    {
     "data": {
      "text/plain": [
       "'winter rain summer'"
      ]
     },
     "execution_count": 46,
     "metadata": {},
     "output_type": "execute_result"
    }
   ],
   "source": [
    "s3.lower()"
   ]
  },
  {
   "cell_type": "code",
   "execution_count": 50,
   "id": "c8ff72dd-3052-4f76-adb6-fe4c3bafb970",
   "metadata": {},
   "outputs": [
    {
     "data": {
      "text/plain": [
       "2"
      ]
     },
     "execution_count": 50,
     "metadata": {},
     "output_type": "execute_result"
    }
   ],
   "source": [
    "s3.find('n')"
   ]
  },
  {
   "cell_type": "code",
   "execution_count": 52,
   "id": "f21dd8ac-bd14-4038-a59c-4980c5d90417",
   "metadata": {},
   "outputs": [
    {
     "data": {
      "text/plain": [
       "'W_i_n_t_e_r_ _R_a_i_n_ _S_u_m_m_e_r'"
      ]
     },
     "execution_count": 52,
     "metadata": {},
     "output_type": "execute_result"
    }
   ],
   "source": [
    "'_'.join(s3)"
   ]
  },
  {
   "cell_type": "code",
   "execution_count": 56,
   "id": "bb62df4f-cbd0-412d-8a5e-bb9a503d91cb",
   "metadata": {},
   "outputs": [
    {
     "data": {
      "text/plain": [
       "'good_bad_mother'"
      ]
     },
     "execution_count": 56,
     "metadata": {},
     "output_type": "execute_result"
    }
   ],
   "source": [
    "'_'.join(['good','bad','mother'])"
   ]
  },
  {
   "cell_type": "code",
   "execution_count": 54,
   "id": "e5a3bf7f-ef06-4a55-b985-1a25f8708106",
   "metadata": {},
   "outputs": [
    {
     "data": {
      "text/plain": [
       "'SUMMER SPRING Autumn RAIN WINTER'"
      ]
     },
     "execution_count": 54,
     "metadata": {},
     "output_type": "execute_result"
    }
   ],
   "source": [
    "s4 = 'SUMMER SPRING Rain RAIN WINTER'\n",
    "s4.replace(\"Rain\",\"Autumn\")"
   ]
  }
 ],
 "metadata": {
  "kernelspec": {
   "display_name": "Python 3 (ipykernel)",
   "language": "python",
   "name": "python3"
  },
  "language_info": {
   "codemirror_mode": {
    "name": "ipython",
    "version": 3
   },
   "file_extension": ".py",
   "mimetype": "text/x-python",
   "name": "python",
   "nbconvert_exporter": "python",
   "pygments_lexer": "ipython3",
   "version": "3.12.4"
  }
 },
 "nbformat": 4,
 "nbformat_minor": 5
}
