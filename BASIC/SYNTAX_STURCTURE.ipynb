{
 "cells": [
  {
   "cell_type": "markdown",
   "id": "e84c7709-c35b-46ba-80bb-af43f769ccc0",
   "metadata": {},
   "source": [
    "**KEYWORDS & IDENTIFIERS**"
   ]
  },
  {
   "cell_type": "code",
   "execution_count": 1,
   "id": "2e9b18eb-2b85-48c0-87f1-0adfbd09b48b",
   "metadata": {},
   "outputs": [],
   "source": [
    "import keyword as kw"
   ]
  },
  {
   "cell_type": "code",
   "execution_count": 3,
   "id": "54aebb9b-afb2-4f65-ad23-ab84e39102ed",
   "metadata": {},
   "outputs": [
    {
     "name": "stdout",
     "output_type": "stream",
     "text": [
      "['False', 'None', 'True', 'and', 'as', 'assert', 'async', 'await', 'break', 'class', 'continue', 'def', 'del', 'elif', 'else', 'except', 'finally', 'for', 'from', 'global', 'if', 'import', 'in', 'is', 'lambda', 'nonlocal', 'not', 'or', 'pass', 'raise', 'return', 'try', 'while', 'with', 'yield']\n"
     ]
    }
   ],
   "source": [
    "print(kw.kwlist)"
   ]
  },
  {
   "cell_type": "code",
   "execution_count": 7,
   "id": "d3defd42-7f57-42f0-927b-e3cb165d3d33",
   "metadata": {},
   "outputs": [
    {
     "name": "stdout",
     "output_type": "stream",
     "text": [
      "35\n"
     ]
    }
   ],
   "source": [
    "print(len(kw.kwlist))"
   ]
  },
  {
   "cell_type": "code",
   "execution_count": 11,
   "id": "3aeb7f5e-14fc-4b70-aa6c-d78c369468c2",
   "metadata": {},
   "outputs": [
    {
     "name": "stdout",
     "output_type": "stream",
     "text": [
      "a is  <class 'int'>\n"
     ]
    }
   ],
   "source": [
    "a = 10\n",
    "print(\"a is \", type(a))"
   ]
  },
  {
   "cell_type": "code",
   "execution_count": 15,
   "id": "d6eeef19-be19-4230-b96f-6f631b7737aa",
   "metadata": {},
   "outputs": [
    {
     "name": "stdout",
     "output_type": "stream",
     "text": [
      "value of a is 10\n"
     ]
    }
   ],
   "source": [
    "print(\"value of a is\" + \" \" + str(a))"
   ]
  },
  {
   "cell_type": "markdown",
   "id": "beac224b-fcee-4a7e-9f4a-da3d8c5be48b",
   "metadata": {},
   "source": [
    "**FORMAT FUNCTION**"
   ]
  },
  {
   "cell_type": "code",
   "execution_count": 17,
   "id": "3b2a8fda-6e4c-431e-b40a-847aca135cf0",
   "metadata": {},
   "outputs": [],
   "source": [
    "a = 10\n",
    "b = 20"
   ]
  },
  {
   "cell_type": "code",
   "execution_count": 23,
   "id": "c94735a1-5e53-42ed-be22-336aa5a49cfd",
   "metadata": {},
   "outputs": [
    {
     "name": "stdout",
     "output_type": "stream",
     "text": [
      "a is 10 and b is 20\n"
     ]
    }
   ],
   "source": [
    "print(\"a is {} and b is {}\".format(a,b))"
   ]
  },
  {
   "cell_type": "code",
   "execution_count": null,
   "id": "45a5b9c7-180e-4eda-8dfc-161c5b07617e",
   "metadata": {},
   "outputs": [],
   "source": [
    "# By default format function is like this\n",
    "print(\"a is {0} and b is {1}\".format(a,b))"
   ]
  },
  {
   "cell_type": "code",
   "execution_count": 37,
   "id": "8c988a53-57be-42f6-934c-d180ccfe2ee0",
   "metadata": {},
   "outputs": [
    {
     "name": "stdout",
     "output_type": "stream",
     "text": [
      "a is 20 and b is 10\n"
     ]
    }
   ],
   "source": [
    "print(\"a is {} and b is {}\".format(b,a))"
   ]
  },
  {
   "cell_type": "code",
   "execution_count": 25,
   "id": "629fc8bd-88e1-4c52-866d-f0cd43ecf587",
   "metadata": {},
   "outputs": [
    {
     "name": "stdout",
     "output_type": "stream",
     "text": [
      "a is 20 and b is 10\n"
     ]
    }
   ],
   "source": [
    "print(\"a is {1} and b is {0}\".format(a,b))"
   ]
  },
  {
   "cell_type": "code",
   "execution_count": 47,
   "id": "07678ca4-3245-483a-97a6-4dd6ccc4e50f",
   "metadata": {},
   "outputs": [
    {
     "name": "stdout",
     "output_type": "stream",
     "text": [
      "My name is John, I'm an Artist.\n"
     ]
    }
   ],
   "source": [
    "print(\"My name is {name}, I'm an {work}.\".format(name = \"John\", work = \"Artist\"))"
   ]
  },
  {
   "cell_type": "code",
   "execution_count": 51,
   "id": "3149396b-8b66-42a1-9024-0c413e870b68",
   "metadata": {},
   "outputs": [
    {
     "name": "stdout",
     "output_type": "stream",
     "text": [
      "The values are Jay,Gloria,Luke,Lilly\n"
     ]
    }
   ],
   "source": [
    "# more than two case of format function method (STRING)\n",
    "print(\"The values are {0},{1},{2},{more}\".format(\"Jay\",\"Gloria\",\"Luke\",more = \"Lilly\"))"
   ]
  },
  {
   "cell_type": "markdown",
   "id": "2714c940-e0d3-4853-be2e-5bdfc26edc73",
   "metadata": {},
   "source": [
    "**INPUT FUNCTION METHOD**"
   ]
  },
  {
   "cell_type": "code",
   "execution_count": 69,
   "id": "5ee13531-b022-4ec1-8f2f-9cfb28ad2d58",
   "metadata": {},
   "outputs": [
    {
     "name": "stdin",
     "output_type": "stream",
     "text": [
      "helooooooooooo 098765\n"
     ]
    },
    {
     "name": "stdout",
     "output_type": "stream",
     "text": [
      "98765\n"
     ]
    }
   ],
   "source": [
    "q = int(input(\"helooooooooooo\"))\n",
    "print(q)"
   ]
  },
  {
   "cell_type": "code",
   "execution_count": 67,
   "id": "f318f4b5-8512-44f3-afee-915664b9abc3",
   "metadata": {},
   "outputs": [
    {
     "name": "stdin",
     "output_type": "stream",
     "text": [
      "helooooooooooo hi,guysssssssssssssssss\n"
     ]
    },
    {
     "name": "stdout",
     "output_type": "stream",
     "text": [
      "hi,guysssssssssssssssss\n"
     ]
    }
   ],
   "source": [
    "q = str(input(\"helooooooooooo\"))\n",
    "print(q)"
   ]
  },
  {
   "cell_type": "markdown",
   "id": "5376fc3e-8813-4a6e-8041-f6b9edd59daf",
   "metadata": {},
   "source": [
    "**MAP FUNCTION**"
   ]
  },
  {
   "cell_type": "code",
   "execution_count": 57,
   "id": "635d3bce-c9c3-4a26-84c2-2585b802a9ab",
   "metadata": {},
   "outputs": [
    {
     "name": "stdin",
     "output_type": "stream",
     "text": [
      " 10 20\n"
     ]
    }
   ],
   "source": [
    "n,k = map(int,input().split())\n",
    "print(n)\n",
    "print(k)"
   ]
  },
  {
   "cell_type": "code",
   "execution_count": 61,
   "id": "41d30d68-5bc2-4550-965c-67c2f1791ba3",
   "metadata": {},
   "outputs": [
    {
     "name": "stdin",
     "output_type": "stream",
     "text": [
      " 34,35\n"
     ]
    },
    {
     "name": "stdout",
     "output_type": "stream",
     "text": [
      "34\n",
      "35\n"
     ]
    }
   ],
   "source": [
    "y,z = map(int,input().split(\",\"))\n",
    "print(y)\n",
    "print(z)"
   ]
  },
  {
   "cell_type": "markdown",
   "id": "11bd1500-b74f-4b2c-aaad-4918e7cf552c",
   "metadata": {},
   "source": [
    "**COMMENTS**"
   ]
  },
  {
   "cell_type": "code",
   "execution_count": 80,
   "id": "7e08a100-1b10-42f8-8f47-601b4e686529",
   "metadata": {},
   "outputs": [
    {
     "name": "stdout",
     "output_type": "stream",
     "text": [
      "valus a is a type of <class 'int'>\n"
     ]
    }
   ],
   "source": [
    "#HELLOOOOOOOOOO\n",
    "'HI, GUYS'\n",
    "\"\"\"\"Good Morning to one and all present here\n",
    "Today i would like to present on RAFT Consensus Mechanism in Private Blockchain\"\"\"\n",
    "a = 10\n",
    "print(\"valus a is a type of\", type(a))"
   ]
  },
  {
   "cell_type": "markdown",
   "id": "de24f49b-e971-4ed2-bbf5-0943bf63ca4b",
   "metadata": {},
   "source": [
    "**INDENTATION**"
   ]
  },
  {
   "cell_type": "code",
   "execution_count": 84,
   "id": "41c7aab9-4020-4cb2-b4d0-4bbc0164fcea",
   "metadata": {},
   "outputs": [
    {
     "name": "stdout",
     "output_type": "stream",
     "text": [
      "value of a is smaller that 76\n"
     ]
    }
   ],
   "source": [
    "a = 70\n",
    "if(a>76):\n",
    "    print(\"value of a is greater than 76\")\n",
    "print(\"value of a is smaller that 76\")"
   ]
  }
 ],
 "metadata": {
  "kernelspec": {
   "display_name": "Python 3 (ipykernel)",
   "language": "python",
   "name": "python3"
  },
  "language_info": {
   "codemirror_mode": {
    "name": "ipython",
    "version": 3
   },
   "file_extension": ".py",
   "mimetype": "text/x-python",
   "name": "python",
   "nbconvert_exporter": "python",
   "pygments_lexer": "ipython3",
   "version": "3.12.4"
  }
 },
 "nbformat": 4,
 "nbformat_minor": 5
}
