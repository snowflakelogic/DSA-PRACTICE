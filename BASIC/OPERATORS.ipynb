{
 "cells": [
  {
   "cell_type": "markdown",
   "id": "dde639cc-dd56-4a89-8ab1-912c05f646c6",
   "metadata": {},
   "source": [
    "**OPERATORS - USED FOR ARTHIMETIC AND LOGICAL COMPUTATION TASKS**"
   ]
  },
  {
   "cell_type": "markdown",
   "id": "74a71017-6426-419d-892f-bfbdb8661004",
   "metadata": {},
   "source": [
    "TYPES : ARITHMETIC, RELATIONAL, LOGICAL, BITWISE, ASSIGNMENT, SPECIAL OPERATORS"
   ]
  },
  {
   "cell_type": "code",
   "execution_count": 1,
   "id": "f1fb328b-72c8-496f-8239-e875fb6024a3",
   "metadata": {},
   "outputs": [],
   "source": [
    "x,y = 30,10"
   ]
  },
  {
   "cell_type": "code",
   "execution_count": 2,
   "id": "c1aec032-006d-4ed8-83c1-a1ac1d9d1c66",
   "metadata": {},
   "outputs": [
    {
     "name": "stdout",
     "output_type": "stream",
     "text": [
      "40\n",
      "20\n",
      "-20\n"
     ]
    }
   ],
   "source": [
    "print(x+y)\n",
    "print(x-y)\n",
    "print(y-x)"
   ]
  },
  {
   "cell_type": "code",
   "execution_count": 3,
   "id": "47c7073a-5f39-4ce0-bba6-413bc299d2c9",
   "metadata": {},
   "outputs": [
    {
     "name": "stdout",
     "output_type": "stream",
     "text": [
      "300\n",
      "3.0\n"
     ]
    }
   ],
   "source": [
    "print(x*y)\n",
    "print(x/y)"
   ]
  },
  {
   "cell_type": "code",
   "execution_count": 4,
   "id": "9fcbcb6e-aea8-44fb-95dc-19893d0c2289",
   "metadata": {},
   "outputs": [
    {
     "name": "stdout",
     "output_type": "stream",
     "text": [
      "3\n"
     ]
    }
   ],
   "source": [
    "print(x//y) # first divide and then take floor value"
   ]
  },
  {
   "cell_type": "code",
   "execution_count": 5,
   "id": "89d8081a-b452-45e8-909d-1402367b39e6",
   "metadata": {},
   "outputs": [
    {
     "name": "stdout",
     "output_type": "stream",
     "text": [
      "1000000000000000000000000000000\n"
     ]
    }
   ],
   "source": [
    "print(y**x) # Y raise to x"
   ]
  },
  {
   "cell_type": "code",
   "execution_count": 6,
   "id": "157eacde-2ca6-494b-89d6-9a941ac65132",
   "metadata": {},
   "outputs": [
    {
     "name": "stdout",
     "output_type": "stream",
     "text": [
      "590490000000000\n"
     ]
    }
   ],
   "source": [
    "print(x**y) # X raise to Y"
   ]
  },
  {
   "cell_type": "code",
   "execution_count": 7,
   "id": "6827c36b-f5d7-4676-94e1-c8b829cade8b",
   "metadata": {},
   "outputs": [
    {
     "name": "stdout",
     "output_type": "stream",
     "text": [
      "True\n"
     ]
    }
   ],
   "source": [
    "print(y != x)"
   ]
  },
  {
   "cell_type": "code",
   "execution_count": 8,
   "id": "897bff61-f396-4884-9f3f-5712000d1d9d",
   "metadata": {},
   "outputs": [
    {
     "name": "stdout",
     "output_type": "stream",
     "text": [
      "0\n"
     ]
    }
   ],
   "source": [
    "print(x%y) # modulus"
   ]
  },
  {
   "cell_type": "markdown",
   "id": "c0ecf821-0bec-495d-ae5d-70f75021c28f",
   "metadata": {},
   "source": [
    "RELATIONAL"
   ]
  },
  {
   "cell_type": "code",
   "execution_count": 18,
   "id": "340cc6e8-dcbb-42e2-992d-92496772b4da",
   "metadata": {},
   "outputs": [],
   "source": [
    "a,b = 1,0"
   ]
  },
  {
   "cell_type": "code",
   "execution_count": 22,
   "id": "692845dd-e53c-4544-b907-060621b0058e",
   "metadata": {},
   "outputs": [
    {
     "name": "stdout",
     "output_type": "stream",
     "text": [
      "0\n",
      "1\n"
     ]
    }
   ],
   "source": [
    "print(a and b)\n",
    "print(a or b)"
   ]
  },
  {
   "cell_type": "code",
   "execution_count": 5,
   "id": "240ccb8c-fde6-4675-9e98-b2fce8bb0ba5",
   "metadata": {},
   "outputs": [
    {
     "name": "stdout",
     "output_type": "stream",
     "text": [
      "REALTIONAL AND OPERATION ON (p,q): False\n",
      "REALTIONAL OR OPERATION ON (p,q) : True\n"
     ]
    }
   ],
   "source": [
    "p,q = True, False\n",
    "print(\"REALTIONAL AND OPERATION ON (p,q):\",p and q)\n",
    "print(\"REALTIONAL OR OPERATION ON (p,q) :\",p or q)"
   ]
  },
  {
   "cell_type": "markdown",
   "id": "b3a6ee5c-f6f9-4a93-8a1d-0d65e824b8e2",
   "metadata": {},
   "source": [
    "BITWISE"
   ]
  },
  {
   "cell_type": "code",
   "execution_count": 15,
   "id": "cb538372-f321-4be1-b4f1-a3423014843d",
   "metadata": {},
   "outputs": [
    {
     "name": "stdout",
     "output_type": "stream",
     "text": [
      "BITWISE AND OPERATION ON (p,q): False\n",
      "BITWISE OR OPERATION ON (p,q) : True\n"
     ]
    }
   ],
   "source": [
    "print(\"BITWISE AND OPERATION ON (p,q):\",p & q)\n",
    "print(\"BITWISE OR OPERATION ON (p,q) :\",p | q)"
   ]
  },
  {
   "cell_type": "code",
   "execution_count": 22,
   "id": "7e8868e3-ce8f-4c83-a09a-fe09459767fa",
   "metadata": {},
   "outputs": [
    {
     "name": "stdout",
     "output_type": "stream",
     "text": [
      "BITWISE AND OPERATION ON (r,s): 8\n",
      "BITWISE OR OPERATION ON (r,s) : 492\n"
     ]
    }
   ],
   "source": [
    "r,s = 200,300\n",
    "print(\"BITWISE AND OPERATION ON (r,s):\",r&s)\n",
    "print(\"BITWISE OR OPERATION ON (r,s) :\",r|s)\n",
    "# DECIMAL -> BINARY CONVERSION -> BINARY OPERATION ON BINARY INPUTS -> RESULTANT IS BINARY OUTPUT -> CONVERTING BINARY OUTPUT TO DECIMAL"
   ]
  },
  {
   "cell_type": "code",
   "execution_count": 24,
   "id": "ca1c6b4f-077a-4773-aa41-640fa5dae94c",
   "metadata": {},
   "outputs": [
    {
     "name": "stdout",
     "output_type": "stream",
     "text": [
      "NEW e :  200\n"
     ]
    }
   ],
   "source": [
    "e = 50\n",
    "e += 150\n",
    "print(\"NEW e : \", e)"
   ]
  },
  {
   "cell_type": "code",
   "execution_count": 28,
   "id": "d1229f36-72f5-46a8-8b32-25e15c5c2e7c",
   "metadata": {},
   "outputs": [
    {
     "name": "stdout",
     "output_type": "stream",
     "text": [
      "e is f False\n"
     ]
    }
   ],
   "source": [
    "f = 350\n",
    "print(\"e is f\", e is f)"
   ]
  },
  {
   "cell_type": "code",
   "execution_count": 30,
   "id": "d827258d-1617-42ef-8450-688a5061ae63",
   "metadata": {},
   "outputs": [
    {
     "name": "stdout",
     "output_type": "stream",
     "text": [
      "h is i False\n"
     ]
    }
   ],
   "source": [
    "# IS checks whether two variables reference the same object in memory\n",
    "# Python has created 2 DIFFERENT LISTS with SAME CONTENT at 2 DIFFERENT LOCATIONS\n",
    "h = [1,2,3,4]\n",
    "i = [1,2,3,4]\n",
    "print(\"h is i\", h is i)"
   ]
  },
  {
   "cell_type": "code",
   "execution_count": 42,
   "id": "dc7dd025-5ed5-4163-adcd-99cdfa6d52ba",
   "metadata": {},
   "outputs": [
    {
     "name": "stdout",
     "output_type": "stream",
     "text": [
      "h is i True\n"
     ]
    }
   ],
   "source": [
    "# Comparing contents inside objects created \n",
    "print(\"h is i\",h == i)"
   ]
  },
  {
   "cell_type": "markdown",
   "id": "96f32d02-26d0-461f-8c70-605df9da5557",
   "metadata": {},
   "source": [
    "CACHING OF SMALL INTEGER CONCEPT"
   ]
  },
  {
   "cell_type": "code",
   "execution_count": 46,
   "id": "ef21ce34-fe90-451d-90a5-e63acfb4c83a",
   "metadata": {},
   "outputs": [
    {
     "name": "stdout",
     "output_type": "stream",
     "text": [
      "True\n"
     ]
    }
   ],
   "source": [
    "V = 10\n",
    "W =10\n",
    "print(V is W) # small integers are cached in python"
   ]
  },
  {
   "cell_type": "code",
   "execution_count": 36,
   "id": "6c19f4a0-2b85-4300-b33c-0fc4e801fa4a",
   "metadata": {},
   "outputs": [
    {
     "name": "stdout",
     "output_type": "stream",
     "text": [
      "False\n"
     ]
    }
   ],
   "source": [
    "X = 257\n",
    "Y = 257\n",
    "print(X is Y)  # large inetgers are not cached"
   ]
  },
  {
   "cell_type": "markdown",
   "id": "0b1a2f41-ea26-4f17-b153-bb91926404b0",
   "metadata": {},
   "source": [
    "OTHERS"
   ]
  },
  {
   "cell_type": "code",
   "execution_count": 52,
   "id": "8614fc30-30ba-4895-a01b-ff8ac54d07ff",
   "metadata": {},
   "outputs": [
    {
     "name": "stdout",
     "output_type": "stream",
     "text": [
      "True\n"
     ]
    }
   ],
   "source": [
    "print(1 in h)"
   ]
  },
  {
   "cell_type": "code",
   "execution_count": 68,
   "id": "fcb28549-2ca2-4371-bb7f-d00fbb7cbddd",
   "metadata": {},
   "outputs": [
    {
     "name": "stdout",
     "output_type": "stream",
     "text": [
      "True\n",
      "True\n"
     ]
    }
   ],
   "source": [
    "f = { 'student' : \"jennie\", 'teacher' : \"Prof. Curie\"}\n",
    "print('student' in f)\n",
    "print('student' in f.keys())"
   ]
  },
  {
   "cell_type": "code",
   "execution_count": 72,
   "id": "9df53158-fa6d-4f4a-8f03-17169790191c",
   "metadata": {},
   "outputs": [
    {
     "name": "stdout",
     "output_type": "stream",
     "text": [
      "True\n"
     ]
    }
   ],
   "source": [
    "print(\"Prof. Curie\" in f.values())"
   ]
  },
  {
   "cell_type": "code",
   "execution_count": 74,
   "id": "80855307-7b34-450f-8dbf-de0ce789826c",
   "metadata": {},
   "outputs": [
    {
     "name": "stdout",
     "output_type": "stream",
     "text": [
      "ALL keys in f list dict_keys(['student', 'teacher'])\n"
     ]
    }
   ],
   "source": [
    "print(\"ALL keys in f list\",f.keys())"
   ]
  },
  {
   "cell_type": "code",
   "execution_count": 76,
   "id": "35067be8-4807-465c-bbad-496e937a0a57",
   "metadata": {},
   "outputs": [
    {
     "name": "stdout",
     "output_type": "stream",
     "text": [
      "ALL values in f list dict_values(['jennie', 'Prof. Curie'])\n"
     ]
    }
   ],
   "source": [
    "print(\"ALL values in f list\",f.values())"
   ]
  }
 ],
 "metadata": {
  "kernelspec": {
   "display_name": "Python 3 (ipykernel)",
   "language": "python",
   "name": "python3"
  },
  "language_info": {
   "codemirror_mode": {
    "name": "ipython",
    "version": 3
   },
   "file_extension": ".py",
   "mimetype": "text/x-python",
   "name": "python",
   "nbconvert_exporter": "python",
   "pygments_lexer": "ipython3",
   "version": "3.12.4"
  }
 },
 "nbformat": 4,
 "nbformat_minor": 5
}
