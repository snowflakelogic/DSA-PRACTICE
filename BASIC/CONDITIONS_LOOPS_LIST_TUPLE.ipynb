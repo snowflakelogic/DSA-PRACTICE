{
 "cells": [
  {
   "cell_type": "markdown",
   "id": "d00c8b62-90d6-4716-bdd8-78ab5624ac3c",
   "metadata": {},
   "source": [
    "IF CONDITION"
   ]
  },
  {
   "cell_type": "code",
   "execution_count": 2,
   "id": "1f0bd586-656b-4337-87d7-82776b82daa2",
   "metadata": {},
   "outputs": [
    {
     "name": "stdout",
     "output_type": "stream",
     "text": [
      "b is geater than a\n",
      "printed anyways\n"
     ]
    }
   ],
   "source": [
    "a = 100\n",
    "b = 200\n",
    "if (b > a) :\n",
    "    print(\"b is geater than a\")\n",
    "print(\"printed anyways\")"
   ]
  },
  {
   "cell_type": "markdown",
   "id": "d7b4b8bb-dc58-48e7-836b-a360bbdc419c",
   "metadata": {},
   "source": [
    "IF-ELIF-ELSE CONDITION"
   ]
  },
  {
   "cell_type": "code",
   "execution_count": 4,
   "id": "722a4f31-c08b-435f-b52f-68c5526e1f0b",
   "metadata": {},
   "outputs": [
    {
     "name": "stdout",
     "output_type": "stream",
     "text": [
      "b is greater than a\n"
     ]
    }
   ],
   "source": [
    "if (a > b):\n",
    "    print(\"a is greater than b\")\n",
    "elif (b>a):\n",
    "    print(\"b is greater than a\")\n",
    "else:\n",
    "    print(\" a and b are equal\")"
   ]
  },
  {
   "cell_type": "markdown",
   "id": "339edf6b-a961-4022-91ae-491515aff63d",
   "metadata": {},
   "source": [
    "GREATEST AMONG THREE INETGERS "
   ]
  },
  {
   "cell_type": "code",
   "execution_count": 6,
   "id": "6eff73e8-6c63-425d-bcfb-5827b9fe642c",
   "metadata": {},
   "outputs": [
    {
     "name": "stdout",
     "output_type": "stream",
     "text": [
      "b is greatest\n",
      "The greatest value among thre integers is : 13\n"
     ]
    }
   ],
   "source": [
    "a = 10\n",
    "b=13\n",
    "c=12\n",
    "if (a>b):\n",
    "    if(a>c):\n",
    "        k = a\n",
    "        print(\"a is greatest\")\n",
    "    else:\n",
    "        k=c\n",
    "        print(\"c is greatest\")\n",
    "else:\n",
    "    if (b>c):\n",
    "        k=b\n",
    "        print(\"b is greatest\")\n",
    "    else:\n",
    "        k=c\n",
    "        print(\"c is greatest\")\n",
    "\n",
    "print(\"The greatest value among thre integers is :\",k)"
   ]
  },
  {
   "cell_type": "markdown",
   "id": "d55c64cc-11a8-4640-9511-7d8e24afde20",
   "metadata": {},
   "source": [
    "WHILE LOOP"
   ]
  },
  {
   "cell_type": "code",
   "execution_count": 8,
   "id": "97a708bb-fab7-4be7-b7d6-a9df1a899166",
   "metadata": {},
   "outputs": [
    {
     "name": "stdout",
     "output_type": "stream",
     "text": [
      "1\n",
      "2\n",
      "3\n",
      "4\n",
      "5\n",
      "6\n",
      "7\n",
      "8\n",
      "9\n"
     ]
    }
   ],
   "source": [
    "i=1\n",
    "while i < 10:\n",
    "    print(i)\n",
    "    i+=1"
   ]
  },
  {
   "cell_type": "markdown",
   "id": "33f49a15-1dca-405d-a8c0-51e4b58ecad0",
   "metadata": {},
   "source": [
    "FOR LOOP"
   ]
  },
  {
   "cell_type": "code",
   "execution_count": 10,
   "id": "d7370166-2180-48a5-98cd-734516a087a9",
   "metadata": {},
   "outputs": [
    {
     "name": "stdout",
     "output_type": "stream",
     "text": [
      "1\n",
      "3\n",
      "5\n",
      "7\n",
      "9\n",
      "11\n",
      "13\n",
      "15\n",
      "17\n",
      "19\n"
     ]
    }
   ],
   "source": [
    "for i in range(1,20,2):\n",
    "    print(i)"
   ]
  },
  {
   "cell_type": "code",
   "execution_count": 11,
   "id": "c5692c75-0c2b-4637-9ccd-9ac53fd4173b",
   "metadata": {},
   "outputs": [
    {
     "name": "stdout",
     "output_type": "stream",
     "text": [
      "0\n",
      "1\n",
      "2\n",
      "3\n",
      "4\n",
      "5\n",
      "6\n",
      "7\n",
      "8\n",
      "9\n"
     ]
    }
   ],
   "source": [
    "for i in range(10):\n",
    "    print(i)"
   ]
  },
  {
   "cell_type": "code",
   "execution_count": 12,
   "id": "e75e0968-6524-454f-8a14-bee9b00588f0",
   "metadata": {},
   "outputs": [
    {
     "name": "stdout",
     "output_type": "stream",
     "text": [
      "0\n",
      "3\n",
      "4\n",
      "5\n",
      "6\n",
      "7\n",
      "8\n",
      "9\n",
      "10\n",
      "11\n"
     ]
    }
   ],
   "source": [
    "for i in range(10):\n",
    "    if i == 0:\n",
    "        print(i)\n",
    "    else:\n",
    "        i+=2\n",
    "        print(i)"
   ]
  },
  {
   "cell_type": "markdown",
   "id": "c435737b-4717-4dda-9312-2e945f0339f6",
   "metadata": {},
   "source": [
    "PRIME NUMBERS"
   ]
  },
  {
   "cell_type": "code",
   "execution_count": 24,
   "id": "89ddc7a9-c37f-46e6-8803-db5bee67ee90",
   "metadata": {},
   "outputs": [
    {
     "name": "stdin",
     "output_type": "stream",
     "text": [
      "Enter the number :  11\n"
     ]
    },
    {
     "name": "stdout",
     "output_type": "stream",
     "text": [
      "11 is a prime number\n"
     ]
    }
   ],
   "source": [
    "num= int(input(\"Enter the number : \"))\n",
    "\n",
    "if (num > 1):\n",
    "    for i in range(2,num):\n",
    "        if (num%i) == 0:\n",
    "            print(num,\"is not a prime number\")\n",
    "            break\n",
    "        else:\n",
    "            print(num,\"is a prime number\")\n",
    "            break\n",
    "else:\n",
    "    print(num,\"is not a prime number\")    "
   ]
  },
  {
   "cell_type": "markdown",
   "id": "8d855c05-c922-45b9-b15d-6bc430c23925",
   "metadata": {},
   "source": [
    "CHECKING PRIME NUMBER IN LOWER & UPPER LIMIT RANGE"
   ]
  },
  {
   "cell_type": "code",
   "execution_count": 64,
   "id": "330a8dde-710e-4d54-84b5-057ca08189e1",
   "metadata": {},
   "outputs": [
    {
     "name": "stdin",
     "output_type": "stream",
     "text": [
      "Enter the lower number :  10\n",
      "Enter the upper number :  20\n",
      "Enter the number to be checked :  19\n"
     ]
    },
    {
     "name": "stdout",
     "output_type": "stream",
     "text": [
      "19 is a prime\n"
     ]
    }
   ],
   "source": [
    "lower = int(input(\"Enter the lower number : \"))\n",
    "upper = int(input(\"Enter the upper number : \"))\n",
    "num = int(input(\"Enter the number to be checked : \"))\n",
    "\n",
    "if num < lower or num > upper:\n",
    "    print(num,\"is not in range\")\n",
    "    \n",
    "else:\n",
    "    if (num < 2):\n",
    "        print(num,\"is not a prime\")\n",
    "    else:\n",
    "        for i in range(2,num):\n",
    "            if (num%i)==0:\n",
    "                print(num,\"is not a prime\")\n",
    "                break\n",
    "        else:\n",
    "                print(num,\"is a prime\")"
   ]
  },
  {
   "cell_type": "markdown",
   "id": "ae18c2bc-9af6-4eeb-b79f-7b210fd69a99",
   "metadata": {},
   "source": [
    "LIST (for loop)"
   ]
  },
  {
   "cell_type": "code",
   "execution_count": 68,
   "id": "46bf1c7b-391a-4d94-b88b-c8fca2aac76f",
   "metadata": {},
   "outputs": [
    {
     "name": "stdout",
     "output_type": "stream",
     "text": [
      "qwe\n",
      "asd\n",
      "zxc\n",
      "rty\n"
     ]
    }
   ],
   "source": [
    "list = [\"qwe\",\"asd\",\"zxc\",\"rty\"]\n",
    "for i in range(len(list)):\n",
    "    print(list[i])"
   ]
  },
  {
   "cell_type": "code",
   "execution_count": 70,
   "id": "1547290f-3a98-4347-9f81-976ea18ab6e2",
   "metadata": {},
   "outputs": [
    {
     "name": "stdout",
     "output_type": "stream",
     "text": [
      "qwe\n",
      "asd\n",
      "zxc\n",
      "rty\n"
     ]
    }
   ],
   "source": [
    "for element in list:\n",
    "    print(element)"
   ]
  },
  {
   "cell_type": "code",
   "execution_count": 76,
   "id": "eef941b1-975b-4654-8876-dd402c719a14",
   "metadata": {},
   "outputs": [
    {
     "name": "stdout",
     "output_type": "stream",
     "text": [
      "1\n",
      "2\n",
      "3\n",
      "4\n",
      "Completed\n"
     ]
    }
   ],
   "source": [
    "num = [1,2,3,4]\n",
    "for elements in num:\n",
    "    print(elements)\n",
    "else:\n",
    "    print(\"Completed\")"
   ]
  },
  {
   "cell_type": "code",
   "execution_count": 1,
   "id": "a49e0954-3228-478a-8e2f-1c6029c52dcf",
   "metadata": {},
   "outputs": [
    {
     "name": "stdout",
     "output_type": "stream",
     "text": [
      "[1, 2, 'cold', 'cute', 4.33]\n"
     ]
    }
   ],
   "source": [
    "list = [1,2,'cute',4.33]\n",
    "list.insert(2,'cold')\n",
    "print(list)"
   ]
  },
  {
   "cell_type": "code",
   "execution_count": 5,
   "id": "b583fc6d-d9f3-4dc4-b9e9-b1ee05aee9cc",
   "metadata": {},
   "outputs": [
    {
     "name": "stdout",
     "output_type": "stream",
     "text": [
      "[1, 2, 'cold', 4.33]\n"
     ]
    }
   ],
   "source": [
    "list.remove('cute')\n",
    "print(list)"
   ]
  },
  {
   "cell_type": "markdown",
   "id": "28ccb0ef-ae35-4e55-b316-839c0536a6f0",
   "metadata": {},
   "source": [
    "POPPING TOP OF LIST"
   ]
  },
  {
   "cell_type": "code",
   "execution_count": 7,
   "id": "a2607c14-40d4-4bf7-b78e-2c82236a5572",
   "metadata": {},
   "outputs": [
    {
     "data": {
      "text/plain": [
       "4.33"
      ]
     },
     "execution_count": 7,
     "metadata": {},
     "output_type": "execute_result"
    }
   ],
   "source": [
    "list.pop()"
   ]
  },
  {
   "cell_type": "markdown",
   "id": "e01eb437-3d22-442c-937b-f576873ca495",
   "metadata": {},
   "source": [
    "APPEND ON LIST"
   ]
  },
  {
   "cell_type": "code",
   "execution_count": 9,
   "id": "f1ecc4a8-ef53-40cf-8b1e-6505e7adcd26",
   "metadata": {},
   "outputs": [
    {
     "name": "stdout",
     "output_type": "stream",
     "text": [
      "[1, 2, 3, ['happy', 'sad', 'mad']]\n"
     ]
    }
   ],
   "source": [
    "list1 = [1,2,3]\n",
    "list2 = ['happy','sad','mad']\n",
    "list1.append(list2)\n",
    "print(list1)"
   ]
  },
  {
   "cell_type": "markdown",
   "id": "26174bdd-6d6b-405f-8f6e-af929cf68353",
   "metadata": {},
   "source": [
    "EXTEND ON LIST"
   ]
  },
  {
   "cell_type": "code",
   "execution_count": 13,
   "id": "d7c75f4a-4194-4925-85b9-84c131e84a10",
   "metadata": {},
   "outputs": [
    {
     "name": "stdout",
     "output_type": "stream",
     "text": [
      "[1, 2, 3, 4, 'happy', 'sad', 'mad']\n"
     ]
    }
   ],
   "source": [
    "new1 = [1,2,3,4]\n",
    "new2 = ['happy','sad','mad']\n",
    "new1.extend(new2)\n",
    "print(new1)"
   ]
  },
  {
   "cell_type": "code",
   "execution_count": 22,
   "id": "828a96ad-e51c-41c0-a264-c20433c1f92c",
   "metadata": {},
   "outputs": [
    {
     "name": "stdout",
     "output_type": "stream",
     "text": [
      "2 is there here\n",
      "[1, 2, 3, 4, 5, 6, 7]\n"
     ]
    }
   ],
   "source": [
    "list = [1,2,3,4,5,6,7]\n",
    "if 2 in list:\n",
    "    print(\"2 is there here\")\n",
    "if 8 in list:\n",
    "    print(\"8 is not there here\")\n",
    "print(list)"
   ]
  },
  {
   "cell_type": "code",
   "execution_count": 24,
   "id": "62da3b7f-3662-4881-94bd-3634b532e662",
   "metadata": {},
   "outputs": [
    {
     "name": "stdout",
     "output_type": "stream",
     "text": [
      "[0, 1, 2, 3, 3, 4, 6, 9]\n"
     ]
    }
   ],
   "source": [
    "num = [3,2,1,6,3,4,9,0]\n",
    "num1 = sorted(num)\n",
    "print(num1)"
   ]
  },
  {
   "cell_type": "code",
   "execution_count": 30,
   "id": "f0fedae7-538e-4d86-8acb-4ad79852ff24",
   "metadata": {},
   "outputs": [
    {
     "name": "stdout",
     "output_type": "stream",
     "text": [
      "[0, 9, 4, 3, 6, 1, 2, 3]\n"
     ]
    }
   ],
   "source": [
    "num.reverse()\n",
    "print(num)"
   ]
  },
  {
   "cell_type": "code",
   "execution_count": 9,
   "id": "ebc1651d-4c7b-4f9c-993e-b9697ccd476b",
   "metadata": {},
   "outputs": [
    {
     "name": "stdout",
     "output_type": "stream",
     "text": [
      "[1, 2, 3, 4, 5, 6, 7, 8, 9, 10]\n"
     ]
    }
   ],
   "source": [
    "num1 = [1,2,3,4,5,6,7,8,9,10]\n",
    "print(num1[:])"
   ]
  },
  {
   "cell_type": "code",
   "execution_count": 11,
   "id": "c5fadeac-f816-40a3-98c7-2c3178410d7b",
   "metadata": {},
   "outputs": [
    {
     "name": "stdout",
     "output_type": "stream",
     "text": [
      "[1, 3, 5, 7, 9]\n"
     ]
    }
   ],
   "source": [
    "print(num1[::2])"
   ]
  },
  {
   "cell_type": "code",
   "execution_count": 13,
   "id": "44eb0254-3456-4768-a9b1-6721cdb90a74",
   "metadata": {},
   "outputs": [
    {
     "name": "stdout",
     "output_type": "stream",
     "text": [
      "[3, 5, 7, 9]\n"
     ]
    }
   ],
   "source": [
    "print(num1[2::2])"
   ]
  },
  {
   "cell_type": "code",
   "execution_count": 19,
   "id": "da59d1a0-1353-4a93-acd1-27ea31281958",
   "metadata": {},
   "outputs": [
    {
     "name": "stdout",
     "output_type": "stream",
     "text": [
      "[9]\n",
      "[9, 10]\n"
     ]
    }
   ],
   "source": [
    "print(num1[-2::2])\n",
    "print(num1[-2::])"
   ]
  },
  {
   "cell_type": "code",
   "execution_count": 44,
   "id": "38c50bc3-f9ed-4864-87fc-e7fe3e4afd5e",
   "metadata": {},
   "outputs": [
    {
     "name": "stdout",
     "output_type": "stream",
     "text": [
      "[0, 9, 4, 3, 6, 1, 2, 3, 1, 2, 3, 4, 5, 6, 7, 8, 9, 10]\n"
     ]
    }
   ],
   "source": [
    "num2 = num + num1\n",
    "print(num2)"
   ]
  },
  {
   "cell_type": "code",
   "execution_count": 48,
   "id": "3c0c7962-cfe3-4f7f-b097-b7371bd04d51",
   "metadata": {},
   "outputs": [
    {
     "name": "stdout",
     "output_type": "stream",
     "text": [
      "1\n"
     ]
    }
   ],
   "source": [
    "print(num2.count(0))"
   ]
  },
  {
   "cell_type": "code",
   "execution_count": 50,
   "id": "36e56099-449c-4b94-95c7-0b68ae800e93",
   "metadata": {},
   "outputs": [
    {
     "name": "stdout",
     "output_type": "stream",
     "text": [
      "3\n"
     ]
    }
   ],
   "source": [
    "print(num2.count(3))"
   ]
  },
  {
   "cell_type": "code",
   "execution_count": 1,
   "id": "401b3788-6571-4fb9-be63-ae232b5e5159",
   "metadata": {},
   "outputs": [
    {
     "name": "stdout",
     "output_type": "stream",
     "text": [
      "[0, 1, 4, 9, 16, 25, 36, 49, 64, 81]\n"
     ]
    }
   ],
   "source": [
    "sq = []\n",
    "for i in range(10):\n",
    "    sq.append(i**2)\n",
    "print(sq)"
   ]
  },
  {
   "cell_type": "markdown",
   "id": "06ebfb15-689e-4089-aa6f-d69d1ad09c9c",
   "metadata": {},
   "source": [
    "LIST COMPREHENSION"
   ]
  },
  {
   "cell_type": "code",
   "execution_count": 3,
   "id": "d6745b9d-e791-4a8f-8a75-7ca813e8c7ff",
   "metadata": {},
   "outputs": [
    {
     "name": "stdout",
     "output_type": "stream",
     "text": [
      "[0, 1, 4, 9, 16, 25, 36, 49, 64, 81]\n"
     ]
    }
   ],
   "source": [
    "sq = [i**2 for i in range(10)]\n",
    "print(sq)"
   ]
  },
  {
   "cell_type": "code",
   "execution_count": 27,
   "id": "71d59859-0b03-4f44-a4de-6a5f59316788",
   "metadata": {},
   "outputs": [
    {
     "name": "stdout",
     "output_type": "stream",
     "text": [
      "[2, 4, 6, 8, 9134, -196]\n"
     ]
    }
   ],
   "source": [
    "eww1 = [1,2,3,4,4567,-98]\n",
    "eww2 = [i*2 for i in eww1]\n",
    "print(eww2)"
   ]
  },
  {
   "cell_type": "code",
   "execution_count": 30,
   "id": "b5807419-cdc9-4d7b-841e-c9ff40bea44f",
   "metadata": {},
   "outputs": [
    {
     "name": "stdout",
     "output_type": "stream",
     "text": [
      "[(0, 0), (1, 3), (2, 6), (3, 9), (4, 12), (5, 15), (6, 18), (7, 21), (8, 24), (9, 27)]\n"
     ]
    }
   ],
   "source": [
    "pairtype = [(i,i*3) for i in range(10)]\n",
    "print(pairtype)"
   ]
  },
  {
   "cell_type": "code",
   "execution_count": 34,
   "id": "73b2c5e4-2d80-47af-a60b-89f040d76ee6",
   "metadata": {},
   "outputs": [
    {
     "name": "stdout",
     "output_type": "stream",
     "text": [
      "[(0, 0, 0), (1, 3, 1), (2, 6, 16), (3, 9, 81), (4, 12, 256), (5, 15, 625), (6, 18, 1296), (7, 21, 2401), (8, 24, 4096), (9, 27, 6561)]\n"
     ]
    }
   ],
   "source": [
    "morethan2type = [(i,i*3,i**4) for i in range(10)]\n",
    "print(morethan2type)"
   ]
  },
  {
   "cell_type": "markdown",
   "id": "31e74407-1454-43df-ba08-f4574653c3f0",
   "metadata": {},
   "source": [
    "TUPLE"
   ]
  },
  {
   "cell_type": "code",
   "execution_count": 40,
   "id": "73a0b393-a2ff-4f1b-ab07-0aebb10e34c3",
   "metadata": {},
   "outputs": [
    {
     "name": "stdout",
     "output_type": "stream",
     "text": [
      "(1, 2, 3, 4, 5, 'cute', 'bear')\n"
     ]
    }
   ],
   "source": [
    "t = (1,2,3,4,5,'cute','bear')\n",
    "print(t)"
   ]
  },
  {
   "cell_type": "code",
   "execution_count": 60,
   "id": "20cbbac4-34f0-4cf9-961f-e068d11e103a",
   "metadata": {},
   "outputs": [
    {
     "name": "stdout",
     "output_type": "stream",
     "text": [
      "(1, 2, 3, 4, 5, 'cute', 'bear')\n"
     ]
    }
   ],
   "source": [
    "print(t[:])"
   ]
  },
  {
   "cell_type": "code",
   "execution_count": 75,
   "id": "eff0f694-bf57-4943-abc8-c8ca15f74528",
   "metadata": {},
   "outputs": [
    {
     "name": "stdout",
     "output_type": "stream",
     "text": [
      "(3, 5, 'bear')\n",
      "(1, 3, 5, 'bear')\n",
      "(3, 4, 5)\n",
      "(3, 4, 5, 'cute')\n",
      "cute\n",
      "(5, 'cute', 'bear')\n"
     ]
    }
   ],
   "source": [
    "print(t[2::2])\n",
    "print(t[::2])\n",
    "print(t[2:5])\n",
    "print(t[2:6])\n",
    "print(t[-2])\n",
    "print(t[-3:])"
   ]
  },
  {
   "cell_type": "markdown",
   "id": "a9ef543b-2fb4-44c8-b7db-5d137ecad08c",
   "metadata": {},
   "source": [
    "TUPLE IN TUPLE"
   ]
  },
  {
   "cell_type": "code",
   "execution_count": 42,
   "id": "7f1245d9-fd70-474d-857b-c287a86f79be",
   "metadata": {},
   "outputs": [
    {
     "name": "stdout",
     "output_type": "stream",
     "text": [
      "((1, 2, 3), (45, 6, 8), ('cute', 'bear'), 'hello', 'may god bless you')\n"
     ]
    }
   ],
   "source": [
    "t1 = ((1,2,3),(45,6,8),('cute','bear'),'hello','may god bless you')\n",
    "print(t1)"
   ]
  },
  {
   "cell_type": "markdown",
   "id": "17aaf9fd-399b-47de-a40e-390521b080ef",
   "metadata": {},
   "source": [
    "LIST IN TUPLE"
   ]
  },
  {
   "cell_type": "code",
   "execution_count": 85,
   "id": "8c1d0868-35f5-45f5-88ba-2030f1734a11",
   "metadata": {},
   "outputs": [
    {
     "name": "stdout",
     "output_type": "stream",
     "text": [
      "([1, 2, 3], (45, 6, 8), ('cute', 'bear'), 'hello', 'may god bless you')\n",
      "bear\n",
      "may god bless you\n"
     ]
    }
   ],
   "source": [
    "t2 = ([1,2,3],(45,6,8),('cute','bear'),'hello','may god bless you')\n",
    "print(t2)\n",
    "print(t2[2][1])\n",
    "print(t2[4])"
   ]
  },
  {
   "cell_type": "code",
   "execution_count": 50,
   "id": "730852f6-5493-4a91-b747-78ebba02cc02",
   "metadata": {},
   "outputs": [
    {
     "name": "stdout",
     "output_type": "stream",
     "text": [
      "<class 'tuple'>\n"
     ]
    }
   ],
   "source": [
    "print(type(t2))"
   ]
  },
  {
   "cell_type": "markdown",
   "id": "761e97af-8509-4281-9910-76c66cb9a3e0",
   "metadata": {},
   "source": [
    "SINGLE VALUED TUPLE"
   ]
  },
  {
   "cell_type": "code",
   "execution_count": 56,
   "id": "7ca988cc-d7e6-4df6-8089-ba24851ac78d",
   "metadata": {},
   "outputs": [
    {
     "name": "stdout",
     "output_type": "stream",
     "text": [
      "<class 'tuple'>\n"
     ]
    }
   ],
   "source": [
    "t3 = 'cute cat',\n",
    "print(type(t3))"
   ]
  },
  {
   "cell_type": "code",
   "execution_count": 58,
   "id": "2ced138e-5d19-457d-bc0d-0dc13b640f02",
   "metadata": {},
   "outputs": [
    {
     "name": "stdout",
     "output_type": "stream",
     "text": [
      "<class 'tuple'>\n"
     ]
    }
   ],
   "source": [
    "t4 = ('cute cat',)\n",
    "print(type(t4))"
   ]
  },
  {
   "cell_type": "markdown",
   "id": "afb98368-78bc-42f6-ad05-f0482a5325cd",
   "metadata": {},
   "source": [
    "CONCAT TUPLE"
   ]
  },
  {
   "cell_type": "code",
   "execution_count": 87,
   "id": "5dd9d324-e5ee-423b-b1c8-557a6b002e1a",
   "metadata": {},
   "outputs": [
    {
     "name": "stdout",
     "output_type": "stream",
     "text": [
      "(1, 2, 3, 5, 0, 1, 2, 3)\n"
     ]
    }
   ],
   "source": [
    "concat = (1,2,3,5)+(0,1,2,3)\n",
    "print(concat)"
   ]
  },
  {
   "cell_type": "code",
   "execution_count": 91,
   "id": "0fe6663d-dff5-4afb-8404-39855ccd2172",
   "metadata": {},
   "outputs": [
    {
     "name": "stdout",
     "output_type": "stream",
     "text": [
      "('APPLE', 'APPLE', 'APPLE', 'APPLE', 'APPLE', 'APPLE', 'APPLE', 'APPLE', 'APPLE')\n"
     ]
    }
   ],
   "source": [
    "multiple = (('APPLE',)*9)\n",
    "print(multiple)"
   ]
  },
  {
   "cell_type": "code",
   "execution_count": 93,
   "id": "e9dcf79e-8ef7-4ecc-9bf8-2a6411c75075",
   "metadata": {},
   "outputs": [],
   "source": [
    "del multiple"
   ]
  },
  {
   "cell_type": "code",
   "execution_count": 103,
   "id": "d8622e3b-51fd-4e1d-91dc-021e9b4230d5",
   "metadata": {},
   "outputs": [
    {
     "name": "stdout",
     "output_type": "stream",
     "text": [
      "IS cute PRESENT IN t? True\n",
      "IS 7 PRESENT IN t? False\n"
     ]
    }
   ],
   "source": [
    "t = (1,2,3,4,5,'cute','bear')\n",
    "print(\"IS cute PRESENT IN t?\",'cute' in t)\n",
    "print(\"IS 7 PRESENT IN t?\",7 in t)"
   ]
  },
  {
   "cell_type": "code",
   "execution_count": 107,
   "id": "3316270b-2765-42b9-8276-121e1b2181db",
   "metadata": {},
   "outputs": [
    {
     "name": "stdout",
     "output_type": "stream",
     "text": [
      "legnth of t : 7\n"
     ]
    }
   ],
   "source": [
    "print(\"legnth of t :\",len(t))"
   ]
  },
  {
   "cell_type": "code",
   "execution_count": 111,
   "id": "60e67486-406c-4d00-9013-7f27a6b5b0ab",
   "metadata": {},
   "outputs": [
    {
     "name": "stdout",
     "output_type": "stream",
     "text": [
      "[1, 4, 5, 24, 51, 89, 234, 5378]\n"
     ]
    }
   ],
   "source": [
    "t1 = [1,4,5,234,5378,51,24,89]\n",
    "print(sorted(t1))"
   ]
  }
 ],
 "metadata": {
  "kernelspec": {
   "display_name": "Python 3 (ipykernel)",
   "language": "python",
   "name": "python3"
  },
  "language_info": {
   "codemirror_mode": {
    "name": "ipython",
    "version": 3
   },
   "file_extension": ".py",
   "mimetype": "text/x-python",
   "name": "python",
   "nbconvert_exporter": "python",
   "pygments_lexer": "ipython3",
   "version": "3.12.4"
  }
 },
 "nbformat": 4,
 "nbformat_minor": 5
}
