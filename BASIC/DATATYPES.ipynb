{
 "cells": [
  {
   "cell_type": "markdown",
   "id": "07523146-b370-4fff-ac5f-d10941e52329",
   "metadata": {},
   "source": [
    "**DATATYPES: INT, FLOAT, BOOLEAN, STRING, COMPLEX NUMBERS, PYTHON LIST, TUPPLE, DICTATIONORY, SETS**"
   ]
  },
  {
   "cell_type": "markdown",
   "id": "950ba312-0f4f-4eee-880a-281d6779a8a4",
   "metadata": {},
   "source": [
    "SAME ADDRESS OF VARIABLE CONCEPT:"
   ]
  },
  {
   "cell_type": "code",
   "execution_count": 3,
   "id": "2fec74eb-2d0a-426d-931c-19018bdfc45f",
   "metadata": {},
   "outputs": [
    {
     "name": "stdout",
     "output_type": "stream",
     "text": [
      "140726929472216\n"
     ]
    }
   ],
   "source": [
    "A =10\n",
    "print(id(A))"
   ]
  },
  {
   "cell_type": "code",
   "execution_count": 5,
   "id": "edbed184-36f1-42ea-8579-a3b133befae9",
   "metadata": {},
   "outputs": [
    {
     "name": "stdout",
     "output_type": "stream",
     "text": [
      "140726929472216\n"
     ]
    }
   ],
   "source": [
    "B=10\n",
    "print(id(B))"
   ]
  },
  {
   "cell_type": "code",
   "execution_count": 13,
   "id": "42650db3-03c3-41ed-947f-64da3d215c5e",
   "metadata": {},
   "outputs": [
    {
     "name": "stdout",
     "output_type": "stream",
     "text": [
      "The types of class value A is <class 'int'>\n"
     ]
    }
   ],
   "source": [
    "print(\"The types of class value A is\",type(A))"
   ]
  },
  {
   "cell_type": "markdown",
   "id": "5771db16-1b93-47f9-bdf3-38dd65cb5f80",
   "metadata": {},
   "source": [
    "isinstance()"
   ]
  },
  {
   "cell_type": "code",
   "execution_count": 21,
   "id": "6757b1f9-9106-402f-830a-4705b65673fe",
   "metadata": {},
   "outputs": [
    {
     "name": "stdout",
     "output_type": "stream",
     "text": [
      "True\n"
     ]
    }
   ],
   "source": [
    "C = 2+2j\n",
    "print(isinstance(C,complex))"
   ]
  },
  {
   "cell_type": "code",
   "execution_count": 27,
   "id": "0df6b4f6-8d42-47d4-a382-4d2c59fc7f75",
   "metadata": {},
   "outputs": [
    {
     "name": "stdout",
     "output_type": "stream",
     "text": [
      "True\n"
     ]
    }
   ],
   "source": [
    "print(isinstance(1+1j,complex))"
   ]
  },
  {
   "cell_type": "markdown",
   "id": "c6f2dcd5-9649-48c3-af52-66cdf3645ae6",
   "metadata": {},
   "source": [
    "SLICING"
   ]
  },
  {
   "cell_type": "code",
   "execution_count": 39,
   "id": "e4b4d9c2-dd18-41d2-998a-de16662856c9",
   "metadata": {},
   "outputs": [],
   "source": [
    "a = \"DATA_structures_And_ALgo\" #size is 24(0-23)"
   ]
  },
  {
   "cell_type": "code",
   "execution_count": 41,
   "id": "0211e4ab-d8c0-49e0-bac6-9c377adb9ac7",
   "metadata": {},
   "outputs": [
    {
     "name": "stdout",
     "output_type": "stream",
     "text": [
      "DATA_structures_And_ALgo\n"
     ]
    }
   ],
   "source": [
    "print(a[:])"
   ]
  },
  {
   "cell_type": "code",
   "execution_count": 51,
   "id": "3dfc5e1e-2753-4edd-8c60-67100a1d1d98",
   "metadata": {},
   "outputs": [
    {
     "name": "stdout",
     "output_type": "stream",
     "text": [
      "Actual size : DATA_structures_And_ALg\n",
      "Extra Size  : DATA_structures_And_ALgo\n"
     ]
    }
   ],
   "source": [
    "print(\"Actual size :\", a[0:23])\n",
    "print(\"Extra Size  :\",a[0:24])"
   ]
  },
  {
   "cell_type": "code",
   "execution_count": 63,
   "id": "9666e392-f532-4086-90d9-494494ec38f0",
   "metadata": {},
   "outputs": [
    {
     "name": "stdout",
     "output_type": "stream",
     "text": [
      "DATA_\n"
     ]
    }
   ],
   "source": [
    "print(a[:5]) "
   ]
  },
  {
   "cell_type": "code",
   "execution_count": 65,
   "id": "8f0281af-074b-42f8-9528-640ab3bc6f14",
   "metadata": {},
   "outputs": [
    {
     "name": "stdout",
     "output_type": "stream",
     "text": [
      "TA_structures_And_ALgo\n"
     ]
    }
   ],
   "source": [
    "print(a[2:]) "
   ]
  },
  {
   "cell_type": "code",
   "execution_count": 55,
   "id": "02fc8c76-bf50-4957-b2f9-c5a7fb73acd7",
   "metadata": {},
   "outputs": [
    {
     "name": "stdout",
     "output_type": "stream",
     "text": [
      "ATA_structures_And_ALg\n"
     ]
    }
   ],
   "source": [
    "print(a[1:23]) "
   ]
  },
  {
   "cell_type": "markdown",
   "id": "cc431d54-4283-43d4-b90f-2ea9c8f8e22c",
   "metadata": {},
   "source": [
    "PYTHON LIST - MUTABLE, CAN UPDATE LIST"
   ]
  },
  {
   "cell_type": "code",
   "execution_count": 69,
   "id": "585fba0a-ebcc-4fc8-b8d4-8fdb4dc77fef",
   "metadata": {},
   "outputs": [],
   "source": [
    "a = [10,10.5,\"DSA-PRAC\"]"
   ]
  },
  {
   "cell_type": "code",
   "execution_count": 71,
   "id": "f14658c9-5c46-4ee6-aac4-794c99378f87",
   "metadata": {},
   "outputs": [
    {
     "name": "stdout",
     "output_type": "stream",
     "text": [
      "<class 'list'>\n"
     ]
    }
   ],
   "source": [
    "print(type(a))"
   ]
  },
  {
   "cell_type": "code",
   "execution_count": 73,
   "id": "52008f5c-67ae-42cb-a48c-cdf4785f630f",
   "metadata": {},
   "outputs": [
    {
     "name": "stdout",
     "output_type": "stream",
     "text": [
      "DSA-PRAC\n"
     ]
    }
   ],
   "source": [
    "print(a[2])"
   ]
  },
  {
   "cell_type": "code",
   "execution_count": 75,
   "id": "24f7c447-6524-4ca7-a3c6-7771d17dad81",
   "metadata": {},
   "outputs": [],
   "source": [
    "b = [\"qwerty\",\"QWERTY\",\"POIU\",\"poiu\",\"ASDFG\",\"asdfgh\"]"
   ]
  },
  {
   "cell_type": "code",
   "execution_count": 89,
   "id": "b3cc81bf-8cb3-4ada-b844-f6b0550485eb",
   "metadata": {},
   "outputs": [
    {
     "name": "stdout",
     "output_type": "stream",
     "text": [
      "['qwerty', 'HELLO', 'POIU', 'poiu', 'ASDFG', 'asdfgh']\n"
     ]
    }
   ],
   "source": [
    "b[1] = \"HELLO\"  #mutable property of python list\n",
    "print(b)"
   ]
  },
  {
   "cell_type": "markdown",
   "id": "07bcf71e-3a31-4728-a516-d327ee6783ad",
   "metadata": {},
   "source": [
    "TUPPLE - IMMIUATBLE, CAN'T UPDATE A TUPPLE"
   ]
  },
  {
   "cell_type": "code",
   "execution_count": 120,
   "id": "c67518e2-377c-49af-8a69-3f621ac9b9fe",
   "metadata": {},
   "outputs": [],
   "source": [
    "Q = (1,2,3,4,\"GOOD\",\"MAY1\")"
   ]
  },
  {
   "cell_type": "code",
   "execution_count": 122,
   "id": "01337d2e-a3e6-4475-9c48-e9770a0e26e7",
   "metadata": {},
   "outputs": [
    {
     "name": "stdout",
     "output_type": "stream",
     "text": [
      "<class 'tuple'>\n"
     ]
    }
   ],
   "source": [
    "print(type(Q))"
   ]
  },
  {
   "cell_type": "code",
   "execution_count": 131,
   "id": "c4b04a4c-f83b-45ec-a68b-1558944231fc",
   "metadata": {},
   "outputs": [
    {
     "name": "stdout",
     "output_type": "stream",
     "text": [
      "3\n"
     ]
    }
   ],
   "source": [
    "print(Q[2])"
   ]
  },
  {
   "cell_type": "code",
   "execution_count": 99,
   "id": "2bc97b63-45ab-49ee-9d99-466c1e489f82",
   "metadata": {},
   "outputs": [
    {
     "ename": "TypeError",
     "evalue": "'tuple' object does not support item assignment",
     "output_type": "error",
     "traceback": [
      "\u001b[1;31m---------------------------------------------------------------------------\u001b[0m",
      "\u001b[1;31mTypeError\u001b[0m                                 Traceback (most recent call last)",
      "Cell \u001b[1;32mIn[99], line 1\u001b[0m\n\u001b[1;32m----> 1\u001b[0m Q[\u001b[38;5;241m2\u001b[39m] \u001b[38;5;241m=\u001b[39m \u001b[38;5;124m\"\u001b[39m\u001b[38;5;124mABC\u001b[39m\u001b[38;5;124m\"\u001b[39m\n",
      "\u001b[1;31mTypeError\u001b[0m: 'tuple' object does not support item assignment"
     ]
    }
   ],
   "source": [
    "Q[2] = \"ABC\" # tupple is immutable"
   ]
  },
  {
   "cell_type": "code",
   "execution_count": 101,
   "id": "517ee38d-2213-4a63-8382-83396b23d507",
   "metadata": {},
   "outputs": [
    {
     "name": "stdout",
     "output_type": "stream",
     "text": [
      "(1, 2, 3, 4, 'GOOD', 'MAY1')\n"
     ]
    }
   ],
   "source": [
    "print(Q) # immutable"
   ]
  },
  {
   "cell_type": "markdown",
   "id": "b7b0403a-9ddf-4198-96de-1f9c18fe1b64",
   "metadata": {},
   "source": [
    "SETS- DISPLAYS IN ANY ORDER, NO CONCEPT OF INDEX, DOESN'T DISPLAY ANY DUPLICATES"
   ]
  },
  {
   "cell_type": "code",
   "execution_count": 114,
   "id": "bc858262-ba5a-47f5-b50a-6359113f3681",
   "metadata": {},
   "outputs": [],
   "source": [
    "P = {10,101,10,202,202,202,20,303,3003}"
   ]
  },
  {
   "cell_type": "code",
   "execution_count": 116,
   "id": "77f2a39c-0017-42e4-9b31-ebac7a1d1a6e",
   "metadata": {},
   "outputs": [
    {
     "name": "stdout",
     "output_type": "stream",
     "text": [
      "{10, 20, 101, 202, 3003, 303}\n"
     ]
    }
   ],
   "source": [
    "print(P)"
   ]
  },
  {
   "cell_type": "code",
   "execution_count": 127,
   "id": "c622e621-6dcb-4799-8b14-683876b9798e",
   "metadata": {},
   "outputs": [
    {
     "name": "stdout",
     "output_type": "stream",
     "text": [
      "<class 'set'>\n"
     ]
    }
   ],
   "source": [
    "print(type(P))"
   ]
  },
  {
   "cell_type": "markdown",
   "id": "ab740e0c-aab4-434c-95a9-cb7ca46b076d",
   "metadata": {},
   "source": [
    "DICTATIONARY - (KEY,VALUE)"
   ]
  },
  {
   "cell_type": "code",
   "execution_count": 135,
   "id": "c986e90e-815d-4640-aca9-0573418b91c1",
   "metadata": {},
   "outputs": [
    {
     "name": "stdout",
     "output_type": "stream",
     "text": [
      "{'a': 'ape', 'b': 'bat'}\n"
     ]
    }
   ],
   "source": [
    "d = {'a' : \"ape\" , 'b':\"bat\"}\n",
    "print(d)"
   ]
  },
  {
   "cell_type": "code",
   "execution_count": 137,
   "id": "e0ada36b-5774-4d75-9809-e581cd5384c3",
   "metadata": {},
   "outputs": [
    {
     "name": "stdout",
     "output_type": "stream",
     "text": [
      "<class 'dict'>\n"
     ]
    }
   ],
   "source": [
    "print(type(d))"
   ]
  },
  {
   "cell_type": "markdown",
   "id": "0724a854-ba50-4993-9c0e-b6374450cbb4",
   "metadata": {},
   "source": [
    "CONVERSION OF DATATYPES"
   ]
  },
  {
   "cell_type": "code",
   "execution_count": 140,
   "id": "c48f5c4a-5ad7-4589-ae47-4e01fb04dfb1",
   "metadata": {},
   "outputs": [
    {
     "data": {
      "text/plain": [
       "234567.0"
      ]
     },
     "execution_count": 140,
     "metadata": {},
     "output_type": "execute_result"
    }
   ],
   "source": [
    "a = 234567\n",
    "float(a)"
   ]
  },
  {
   "cell_type": "code",
   "execution_count": 150,
   "id": "0f2121ed-9ebb-45c1-9d07-5a4e755f54c3",
   "metadata": {},
   "outputs": [
    {
     "name": "stdout",
     "output_type": "stream",
     "text": [
      "Original type of b = 123.543 is <class 'float'>\n",
      "Converted type of b 123\n"
     ]
    }
   ],
   "source": [
    "b = 123.543\n",
    "print(\"Original type of b = 123.543 is\",type(b))\n",
    "print(\"Converted type of b\", int(b))"
   ]
  },
  {
   "cell_type": "code",
   "execution_count": 152,
   "id": "38b7f348-97e0-4be3-97e0-d07871083624",
   "metadata": {},
   "outputs": [
    {
     "data": {
      "text/plain": [
       "'234567'"
      ]
     },
     "execution_count": 152,
     "metadata": {},
     "output_type": "execute_result"
    }
   ],
   "source": [
    "str(a)"
   ]
  },
  {
   "cell_type": "code",
   "execution_count": 158,
   "id": "93976067-1652-48db-aea4-45355355ef63",
   "metadata": {},
   "outputs": [
    {
     "ename": "SyntaxError",
     "evalue": "invalid decimal literal (2884123963.py, line 1)",
     "output_type": "error",
     "traceback": [
      "\u001b[1;36m  Cell \u001b[1;32mIn[158], line 1\u001b[1;36m\u001b[0m\n\u001b[1;33m    int(10p) #int cant conversion can't contain anything other than digits\u001b[0m\n\u001b[1;37m         ^\u001b[0m\n\u001b[1;31mSyntaxError\u001b[0m\u001b[1;31m:\u001b[0m invalid decimal literal\n"
     ]
    }
   ],
   "source": [
    "int(10p) #int cant conversion can't contain anything other than digits"
   ]
  },
  {
   "cell_type": "code",
   "execution_count": 156,
   "id": "2ed78f0c-7c3e-47fd-ae69-7151c32e30fa",
   "metadata": {},
   "outputs": [
    {
     "data": {
      "text/plain": [
       "-10"
      ]
     },
     "execution_count": 156,
     "metadata": {},
     "output_type": "execute_result"
    }
   ],
   "source": [
    "int(-10)"
   ]
  },
  {
   "cell_type": "code",
   "execution_count": 164,
   "id": "93bda37f-f407-4df3-8d35-4027adad1c35",
   "metadata": {},
   "outputs": [
    {
     "name": "stdout",
     "output_type": "stream",
     "text": [
      "['G', 'o', 'o', 'd', ' ', 'M', 'o', 'r', 'n', 'i', 'n', 'g']\n"
     ]
    }
   ],
   "source": [
    "# string to list conversion\n",
    "print(list(\"Good Morning\"))"
   ]
  }
 ],
 "metadata": {
  "kernelspec": {
   "display_name": "Python 3 (ipykernel)",
   "language": "python",
   "name": "python3"
  },
  "language_info": {
   "codemirror_mode": {
    "name": "ipython",
    "version": 3
   },
   "file_extension": ".py",
   "mimetype": "text/x-python",
   "name": "python",
   "nbconvert_exporter": "python",
   "pygments_lexer": "ipython3",
   "version": "3.12.4"
  }
 },
 "nbformat": 4,
 "nbformat_minor": 5
}
